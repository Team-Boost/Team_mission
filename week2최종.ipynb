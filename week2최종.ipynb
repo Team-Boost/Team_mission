{
  "nbformat": 4,
  "nbformat_minor": 0,
  "metadata": {
    "colab": {
      "name": "week2최종.ipynb",
      "provenance": [],
      "mount_file_id": "12NiLSAMUgUTVir15rQVkmIAlxHSYNjvi",
      "authorship_tag": "ABX9TyMs34RXD10hmhF3+0P2S39k",
      "include_colab_link": true
    },
    "kernelspec": {
      "name": "python3",
      "display_name": "Python 3"
    },
    "language_info": {
      "name": "python"
    }
  },
  "cells": [
    {
      "cell_type": "markdown",
      "metadata": {
        "id": "view-in-github",
        "colab_type": "text"
      },
      "source": [
        "<a href=\"https://colab.research.google.com/github/Team-Boost/Team_mission/blob/main/week2%EC%B5%9C%EC%A2%85.ipynb\" target=\"_parent\"><img src=\"https://colab.research.google.com/assets/colab-badge.svg\" alt=\"Open In Colab\"/></a>"
      ]
    },
    {
      "cell_type": "markdown",
      "source": [
        "csv 다운로드"
      ],
      "metadata": {
        "id": "cT-zMOjNp8ta"
      }
    },
    {
      "cell_type": "code",
      "source": [
        "from urllib import request\n",
        "url = \"https://raw.githubusercontent.com/Team-Boost/Team_mission/main/week2/data-01-test-score.csv\"\n",
        "savename = \"data-01-test-score.csv\"\n",
        "request.urlretrieve(url,savename)"
      ],
      "metadata": {
        "colab": {
          "base_uri": "https://localhost:8080/"
        },
        "id": "yjSSWo9EopxS",
        "outputId": "d4c6ca71-fcb9-4389-bd14-f6ae827a3efc"
      },
      "execution_count": null,
      "outputs": [
        {
          "output_type": "execute_result",
          "data": {
            "text/plain": [
              "('data-01-test-score.csv', <http.client.HTTPMessage at 0x7fae4c7753d0>)"
            ]
          },
          "metadata": {},
          "execution_count": 1
        }
      ]
    },
    {
      "cell_type": "markdown",
      "source": [
        "1번"
      ],
      "metadata": {
        "id": "vfAq5RRxgpqe"
      }
    },
    {
      "cell_type": "code",
      "source": [
        "class Score():\n",
        "# 생성자 private\n",
        "  def __init__(self, mid , final):\n",
        "    self.__mid = mid\n",
        "    self.__final = final\n",
        "\n",
        "  @property\n",
        "  def mid(self):\n",
        "      return int(self.__mid)\n",
        "\n",
        "  @property\n",
        "  def final(self):\n",
        "      return int(self.__final)"
      ],
      "metadata": {
        "id": "URcApjCj5ell"
      },
      "execution_count": null,
      "outputs": []
    },
    {
      "cell_type": "code",
      "source": [
        "score=Score(50,75)\n",
        "print((score.mid+score.final)/2)"
      ],
      "metadata": {
        "colab": {
          "base_uri": "https://localhost:8080/"
        },
        "id": "Aj_DXgjF3DM_",
        "outputId": "fcef597e-eafc-4cd9-aa63-1d6d09fd3860"
      },
      "execution_count": null,
      "outputs": [
        {
          "output_type": "stream",
          "name": "stdout",
          "text": [
            "62.5\n"
          ]
        }
      ]
    },
    {
      "cell_type": "markdown",
      "source": [
        "  @property 를 한번만 쓸 수 있는 방법이 있나요?"
      ],
      "metadata": {
        "id": "MhriogBwerIV"
      }
    },
    {
      "cell_type": "markdown",
      "source": [
        "2번"
      ],
      "metadata": {
        "id": "aVZWJ_1h8YOr"
      }
    },
    {
      "cell_type": "code",
      "source": [
        "class Car():\n",
        "  def __init__(self,fuel,wheels):\n",
        "    self.fuel=fuel\n",
        "    self.wheels=wheels\n",
        "\n",
        "class Bike(Car):\n",
        "  def __init__(self,fuel,wheels,size):\n",
        "    super().__init__(fuel,wheels) #클래스 상속\n",
        "    self.size=size                     #size정의"
      ],
      "metadata": {
        "id": "DjYDxaAz8XOB"
      },
      "execution_count": null,
      "outputs": []
    },
    {
      "cell_type": "code",
      "source": [
        "bike=Bike(\"gas\",2,\"small\")\n",
        "print(bike.fuel, bike.wheels, bike.size)"
      ],
      "metadata": {
        "colab": {
          "base_uri": "https://localhost:8080/"
        },
        "id": "LSLTGiJV9jFM",
        "outputId": "e5d9d4f4-1e57-4a45-a361-693c5ab5d760"
      },
      "execution_count": null,
      "outputs": [
        {
          "output_type": "stream",
          "name": "stdout",
          "text": [
            "gas 2 small\n"
          ]
        }
      ]
    },
    {
      "cell_type": "markdown",
      "source": [
        "3번, 4번"
      ],
      "metadata": {
        "id": "ieMcvZpb9_J3"
      }
    },
    {
      "cell_type": "code",
      "source": [
        "class ReadCSV:\n",
        "  def __init__(self,file_path):\n",
        "    self.file_path = file_path\n",
        "    self.data = []\n",
        "\n",
        "#3번\n",
        "  def read_file(self):\n",
        "      with open(self.file_path, \"r\") as f:\n",
        "        for line in f.read().splitlines():\n",
        "          self.data.append(line.split(\",\"))\n",
        "        return self.data\n",
        "\n",
        "\n",
        "#4번 \n",
        "  def merge_list(self):\n",
        "    csv_list=self.read_file()\n",
        "    merge_list=[sum(list(map(int, v))) for v in csv_list]\n",
        "    return merge_list"
      ],
      "metadata": {
        "id": "lLCisyFq-ZY5"
      },
      "execution_count": null,
      "outputs": []
    },
    {
      "cell_type": "code",
      "source": [
        "file_path = \"./data-01-test-score.csv\"\n",
        "read_csv=ReadCSV(file_path)\n",
        "print(read_csv.read_file())\n",
        "#줄 바꾸어 출력하려면 \n",
        "#print(*read_csv.read_file(), sep='\\n')"
      ],
      "metadata": {
        "colab": {
          "base_uri": "https://localhost:8080/"
        },
        "id": "UYQVIZNSBXSZ",
        "outputId": "a909237d-00db-42ff-9458-64f4fe9d750e"
      },
      "execution_count": null,
      "outputs": [
        {
          "output_type": "stream",
          "name": "stdout",
          "text": [
            "[['73', '80', '75', '152'], ['93', '88', '93', '185'], ['89', '91', '90', '180'], ['96', '98', '100', '196'], ['73', '66', '70', '142'], ['53', '46', '55', '101'], ['69', '74', '77', '149'], ['47', '56', '60', '115'], ['87', '79', '90', '175'], ['79', '70', '88', '164'], ['69', '70', '73', '141'], ['70', '65', '74', '141'], ['93', '95', '91', '184'], ['79', '80', '73', '152'], ['70', '73', '78', '148'], ['93', '89', '96', '192'], ['78', '75', '68', '147'], ['81', '90', '93', '183'], ['88', '92', '86', '177'], ['78', '83', '77', '159'], ['82', '86', '90', '177'], ['86', '82', '89', '175'], ['78', '83', '85', '175'], ['76', '83', '71', '149'], ['96', '93', '95', '192']]\n"
          ]
        }
      ]
    },
    {
      "cell_type": "code",
      "source": [
        "print(read_csv.merge_list())"
      ],
      "metadata": {
        "id": "wLjSrA3pLSsV",
        "colab": {
          "base_uri": "https://localhost:8080/"
        },
        "outputId": "950757c0-ff2d-445e-d665-a3c9e6baaba1"
      },
      "execution_count": null,
      "outputs": [
        {
          "output_type": "stream",
          "name": "stdout",
          "text": [
            "[380, 459, 450, 490, 351, 255, 369, 278, 431, 401, 353, 350, 463, 384, 369, 470, 368, 447, 443, 397, 435, 432, 421, 379, 476, 380, 459, 450, 490, 351, 255, 369, 278, 431, 401, 353, 350, 463, 384, 369, 470, 368, 447, 443, 397, 435, 432, 421, 379, 476]\n"
          ]
        }
      ]
    },
    {
      "cell_type": "markdown",
      "source": [
        "5번"
      ],
      "metadata": {
        "id": "B72WDELVb9MJ"
      }
    },
    {
      "cell_type": "code",
      "source": [
        "class ReadCSV:\n",
        "  def __init__(self,file_path):\n",
        "    self.file_path = file_path\n",
        "    self.data = []\n",
        "\n",
        "#3번\n",
        "  def read_file(self):\n",
        "      with open(self.file_path, \"r\") as f:\n",
        "        for line in f.read().splitlines():\n",
        "          self.data.append(line.split(\",\"))\n",
        "        return self.data\n",
        "\n",
        "#5번 \n",
        "  def merge_list(self):\n",
        "    csv_list=self.read_file()\n",
        "    merge_list=[sum(list(map(int, v)))/len(v) for v in csv_list]\n",
        "    merge_list.sort()\n",
        "    return merge_list"
      ],
      "metadata": {
        "id": "-Czx1ViTQpeI"
      },
      "execution_count": null,
      "outputs": []
    },
    {
      "cell_type": "code",
      "source": [
        "read_csv=ReadCSV(file_path)\n",
        "print(read_csv.merge_list())"
      ],
      "metadata": {
        "colab": {
          "base_uri": "https://localhost:8080/"
        },
        "id": "9x7-ujVqV1gT",
        "outputId": "8a0aef62-2a83-4e4f-a231-11590851ef3a"
      },
      "execution_count": null,
      "outputs": [
        {
          "output_type": "stream",
          "name": "stdout",
          "text": [
            "[63.75, 69.5, 87.5, 87.75, 88.25, 92.0, 92.25, 92.25, 94.75, 95.0, 96.0, 99.25, 100.25, 105.25, 107.75, 108.0, 108.75, 110.75, 111.75, 112.5, 114.75, 115.75, 117.5, 119.0, 122.5]\n"
          ]
        }
      ]
    }
  ]
}