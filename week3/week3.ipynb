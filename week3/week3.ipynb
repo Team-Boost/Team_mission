{
  "nbformat": 4,
  "nbformat_minor": 0,
  "metadata": {
    "colab": {
      "name": "week3.ipynb",
      "provenance": [],
      "authorship_tag": "ABX9TyP72pbkpJjBbcu3JS+Fv4rL",
      "include_colab_link": true
    },
    "kernelspec": {
      "name": "python3",
      "display_name": "Python 3"
    },
    "language_info": {
      "name": "python"
    }
  },
  "cells": [
    {
      "cell_type": "markdown",
      "metadata": {
        "id": "view-in-github",
        "colab_type": "text"
      },
      "source": [
        "<a href=\"https://colab.research.google.com/github/Team-Boost/Team_mission/blob/main/week3.ipynb\" target=\"_parent\"><img src=\"https://colab.research.google.com/assets/colab-badge.svg\" alt=\"Open In Colab\"/></a>"
      ]
    },
    {
      "cell_type": "markdown",
      "source": [
        "1번"
      ],
      "metadata": {
        "id": "TmJOSAb05VAi"
      }
    },
    {
      "cell_type": "code",
      "source": [
        "import numpy as np"
      ],
      "metadata": {
        "id": "IPFWPUO82-Ia"
      },
      "execution_count": 2,
      "outputs": []
    },
    {
      "cell_type": "code",
      "execution_count": 15,
      "metadata": {
        "id": "A0cqMI6m2t9I"
      },
      "outputs": [],
      "source": [
        "arr1=np.random.rand(5,3)\n",
        "arr2=np.random.rand(3,2)\n",
        "dot=arr1@arr2"
      ]
    },
    {
      "cell_type": "code",
      "source": [
        "print(dot,dot.shape)"
      ],
      "metadata": {
        "colab": {
          "base_uri": "https://localhost:8080/"
        },
        "id": "xmVisLf44FNq",
        "outputId": "846ce37f-1a1a-4dbc-c643-e6a8481f3fdd"
      },
      "execution_count": 16,
      "outputs": [
        {
          "output_type": "stream",
          "name": "stdout",
          "text": [
            "[[0.28375316 0.31989323]\n",
            " [0.53489004 1.13684866]\n",
            " [0.52462553 0.91522315]\n",
            " [0.58632776 0.98239437]\n",
            " [0.84506826 0.80370101]] (5, 2)\n"
          ]
        }
      ]
    },
    {
      "cell_type": "markdown",
      "source": [
        ""
      ],
      "metadata": {
        "id": "ldMSqIgpR7Mr"
      }
    },
    {
      "cell_type": "markdown",
      "source": [
        "2번"
      ],
      "metadata": {
        "id": "obmzYn-V7tY6"
      }
    },
    {
      "cell_type": "code",
      "source": [
        "arr1=np.array([[5,7],[9,11]], float)\n",
        "arr2=np.array([[2,4],[6,8]], float)"
      ],
      "metadata": {
        "id": "aPK3J4ui7wK7"
      },
      "execution_count": 17,
      "outputs": []
    },
    {
      "cell_type": "code",
      "source": [
        "concat_1= np.concatenate((arr1,arr2),axis=0)\n",
        "concat_2= np.concatenate((arr1,arr2),axis=1)"
      ],
      "metadata": {
        "id": "tbP9Sivh8KXL"
      },
      "execution_count": 19,
      "outputs": []
    },
    {
      "cell_type": "code",
      "source": [
        "print(concat_1)\n",
        "print(concat_2)"
      ],
      "metadata": {
        "colab": {
          "base_uri": "https://localhost:8080/"
        },
        "id": "jJjMkjedSO6I",
        "outputId": "6af93f32-c224-48a5-bf86-6eba8061235a"
      },
      "execution_count": 21,
      "outputs": [
        {
          "output_type": "stream",
          "name": "stdout",
          "text": [
            "[[ 5.  7.]\n",
            " [ 9. 11.]\n",
            " [ 2.  4.]\n",
            " [ 6.  8.]]\n",
            "[[ 5.  7.  2.  4.]\n",
            " [ 9. 11.  6.  8.]]\n"
          ]
        }
      ]
    },
    {
      "cell_type": "markdown",
      "source": [
        "3번"
      ],
      "metadata": {
        "id": "PgIqtFpLSg7C"
      }
    },
    {
      "cell_type": "code",
      "source": [
        "xy=np.array([[1., 2. ,3. ,4. ,5. ,6.],\n",
        "            [10., 20., 30., 40., 50., 60.]])\n",
        "\n",
        "x_train=xy[0]\n",
        "y_train=xy[1]"
      ],
      "metadata": {
        "id": "ssTOLd2WSU7Z"
      },
      "execution_count": 35,
      "outputs": []
    },
    {
      "cell_type": "code",
      "source": [
        "print(x_train,x_train.shape)\n",
        "print(y_train,y_train.shape)"
      ],
      "metadata": {
        "colab": {
          "base_uri": "https://localhost:8080/"
        },
        "id": "_NND8pUrTSlG",
        "outputId": "b471e9e1-beb4-4c89-bf48-284418a153dd"
      },
      "execution_count": 36,
      "outputs": [
        {
          "output_type": "stream",
          "name": "stdout",
          "text": [
            "[1. 2. 3. 4. 5. 6.] (6,)\n",
            "[10. 20. 30. 40. 50. 60.] (6,)\n"
          ]
        }
      ]
    },
    {
      "cell_type": "markdown",
      "source": [
        "4번"
      ],
      "metadata": {
        "id": "SGxekZXDWAUH"
      }
    },
    {
      "cell_type": "code",
      "source": [
        "beta_gd=np.random.rand(1)\n",
        "bias=np.random.rand(1)"
      ],
      "metadata": {
        "id": "DdtT8gjVU--X"
      },
      "execution_count": 40,
      "outputs": []
    },
    {
      "cell_type": "code",
      "source": [
        "print(beta_gd,bias)"
      ],
      "metadata": {
        "colab": {
          "base_uri": "https://localhost:8080/"
        },
        "id": "MgMUxCy-WPe6",
        "outputId": "1e6713b2-82f2-4440-af6c-d1e487b9b578"
      },
      "execution_count": 41,
      "outputs": [
        {
          "output_type": "stream",
          "name": "stdout",
          "text": [
            "[0.98027486] [0.93517116]\n"
          ]
        }
      ]
    },
    {
      "cell_type": "markdown",
      "source": [
        "5번"
      ],
      "metadata": {
        "id": "ul0C3gZ6WiMt"
      }
    },
    {
      "cell_type": "code",
      "source": [
        "xy=np.array([[1., 2. ,3. ,4. ,5. ,6.],\n",
        "            [3., 6., 9., 12., 15., 18.]])"
      ],
      "metadata": {
        "id": "2Ez37kjAWXdq"
      },
      "execution_count": 55,
      "outputs": []
    },
    {
      "cell_type": "code",
      "source": [
        "x_train=xy[0]\n",
        "y_train=xy[1]\n",
        "beta_gd=np.random.rand(1)\n",
        "bias=np.random.rand(1)\n",
        "learning_rate=0.01\n",
        "\n",
        "for i in range(1000):\n",
        "  prediction=(beta_gd*x_train)+bias\n",
        "  error=((prediction-y_train)**2).mean()\n",
        "  gd_w=((prediction-y_train)*2*x_train).mean()\n",
        "  gd_b=((prediction-y_train)*2).mean()\n",
        "\n",
        "  beta_gd = beta_gd-learning_rate*gd_w\n",
        "  bias = bias-learning_rate*gd_b\n",
        "\n",
        "  if i % 100 ==0 :\n",
        "    print('Epoch ({:10d}/1000) error: {:10f}, beta_gd:{:10f}, bias:{:10f}'.format(i,error,beta_gd.item(),bias.item()))"
      ],
      "metadata": {
        "colab": {
          "base_uri": "https://localhost:8080/"
        },
        "id": "MhfkTaTGWvb_",
        "outputId": "9adca37c-7ca5-47ef-b737-5a4c0ad83a0e"
      },
      "execution_count": 64,
      "outputs": [
        {
          "output_type": "stream",
          "name": "stdout",
          "text": [
            "Epoch (         0/1000) error:  70.018981, beta_gd:  1.303950, bias:  1.016702\n",
            "Epoch (       100/1000) error:   0.167469, beta_gd:  2.782889, bias:  0.929494\n",
            "Epoch (       200/1000) error:   0.080606, beta_gd:  2.849375, bias:  0.644857\n",
            "Epoch (       300/1000) error:   0.038797, beta_gd:  2.895500, bias:  0.447384\n",
            "Epoch (       400/1000) error:   0.018674, beta_gd:  2.927501, bias:  0.310383\n",
            "Epoch (       500/1000) error:   0.008988, beta_gd:  2.949702, bias:  0.215335\n",
            "Epoch (       600/1000) error:   0.004326, beta_gd:  2.965105, bias:  0.149393\n",
            "Epoch (       700/1000) error:   0.002082, beta_gd:  2.975791, bias:  0.103645\n",
            "Epoch (       800/1000) error:   0.001002, beta_gd:  2.983204, bias:  0.071906\n",
            "Epoch (       900/1000) error:   0.000482, beta_gd:  2.988348, bias:  0.049886\n"
          ]
        }
      ]
    },
    {
      "cell_type": "code",
      "source": [
        ""
      ],
      "metadata": {
        "id": "UgMELXsRYMxY"
      },
      "execution_count": 51,
      "outputs": []
    }
  ]
}
